{
  "nbformat": 4,
  "nbformat_minor": 0,
  "metadata": {
    "colab": {
      "provenance": [],
      "authorship_tag": "ABX9TyNHiMBM3gUyTwlSP9K6CWs4",
      "include_colab_link": true
    },
    "kernelspec": {
      "name": "python3",
      "display_name": "Python 3"
    },
    "language_info": {
      "name": "python"
    }
  },
  "cells": [
    {
      "cell_type": "markdown",
      "metadata": {
        "id": "view-in-github",
        "colab_type": "text"
      },
      "source": [
        "<a href=\"https://colab.research.google.com/github/Reematechcampus19/Assignment_IBM/blob/main/Assignment.ipynb\" target=\"_parent\"><img src=\"https://colab.research.google.com/assets/colab-badge.svg\" alt=\"Open In Colab\"/></a>"
      ]
    },
    {
      "cell_type": "markdown",
      "source": [
        "<h1>Data Science Tools and ecosystem</h1>"
      ],
      "metadata": {
        "id": "yK97sDkzu4Jq"
      }
    },
    {
      "cell_type": "markdown",
      "source": [
        "# introduction:\n",
        "in this notebook Data Science Tools and ecosystem will be summerized\n"
      ],
      "metadata": {
        "id": "RtmeSn9svO8n"
      }
    },
    {
      "cell_type": "markdown",
      "source": [
        "list data science languages:\n",
        "\n",
        "\n",
        "1.   Python\n",
        "2.   R\n",
        "3.   SQL\n",
        "4.   Scala\n",
        "5.   Java\n",
        "6.   C++\n",
        "7.   JavaScript\n",
        "8.   PHP"
      ],
      "metadata": {
        "id": "AP-q9fnXvvfF"
      }
    },
    {
      "cell_type": "markdown",
      "source": [
        "list data science libraries:\n",
        "\n",
        "1.   TensorFlow\n",
        "2.   NumPy\n",
        "3.   SciPy\n",
        "4.   Pandas\n",
        "5.   Matplotlib\n",
        "6.   Keras\n",
        "7.   SciKit-Learn"
      ],
      "metadata": {
        "id": "ODmUN3tqwki5"
      }
    },
    {
      "cell_type": "markdown",
      "source": [
        "\n",
        " <table>\n",
        "\n",
        "  <tr>\n",
        "    <td><strong>Data Science tools</strong></td>\n",
        "  </tr>\n",
        "  <tr>\n",
        "    <td>Anaconda</td>\n",
        "  </tr>\n",
        "  <tr>\n",
        "    <td>Jupyter notebook</td>\n",
        "  </tr>\n",
        "  <tr>\n",
        "    <td>R Studio</td>\n",
        "  </tr>\n",
        "  <tr>\n",
        "    <td>Spyder</td>\n",
        "  </tr>\n",
        "  <tr>\n",
        "    <td>Zeppelin</td>\n",
        "  </tr>\n",
        "  \n",
        "</table>\n"
      ],
      "metadata": {
        "id": "0PihqNzcxXzv"
      }
    },
    {
      "cell_type": "markdown",
      "source": [
        "arithmetic expression examples:"
      ],
      "metadata": {
        "id": "rLpd3OxJymnh"
      }
    },
    {
      "cell_type": "code",
      "source": [
        "#multiply and add numbers\n",
        "(3*4)+5"
      ],
      "metadata": {
        "colab": {
          "base_uri": "https://localhost:8080/"
        },
        "id": "-594XNyJzLH-",
        "outputId": "a2016364-e8ed-44b0-b55e-434e4e9280de"
      },
      "execution_count": 2,
      "outputs": [
        {
          "output_type": "execute_result",
          "data": {
            "text/plain": [
              "17"
            ]
          },
          "metadata": {},
          "execution_count": 2
        }
      ]
    },
    {
      "cell_type": "code",
      "source": [
        "#convert minutes to hours\n",
        "200 //60"
      ],
      "metadata": {
        "colab": {
          "base_uri": "https://localhost:8080/"
        },
        "id": "qwb0BKzzzcdu",
        "outputId": "f8861ae2-aca2-4cb6-cee8-a4bb3ac14a5e"
      },
      "execution_count": 4,
      "outputs": [
        {
          "output_type": "execute_result",
          "data": {
            "text/plain": [
              "3"
            ]
          },
          "metadata": {},
          "execution_count": 4
        }
      ]
    },
    {
      "cell_type": "markdown",
      "source": [
        "Objectives:\n",
        "\n",
        "*   Add comments to code cell\n",
        "*   create markedown list\n",
        "*   Add orderd and unorderd lists to markedown cells\n",
        "*   formats contant of markedown cells with heading styles"
      ],
      "metadata": {
        "id": "T8QwzcVuz3fD"
      }
    },
    {
      "cell_type": "markdown",
      "source": [
        "**Authors name :**\n",
        " Reema Alkoshi"
      ],
      "metadata": {
        "id": "t5jmGKrC1Hkp"
      }
    }
  ]
}